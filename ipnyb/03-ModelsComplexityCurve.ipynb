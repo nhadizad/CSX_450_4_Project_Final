{
 "cells": [
  {
   "cell_type": "markdown",
   "metadata": {},
   "source": [
    "# Regression Models Complexity Curves (Ames, Iowa Housing)¶"
   ]
  },
  {
   "cell_type": "markdown",
   "metadata": {},
   "source": [
    "### Lodaing, Splitting and Scaling the data"
   ]
  },
  {
   "cell_type": "code",
   "execution_count": 1,
   "metadata": {},
   "outputs": [
    {
     "name": "stdout",
     "output_type": "stream",
     "text": [
      "/home/jovyan/04-Final\n"
     ]
    }
   ],
   "source": [
    "cd .."
   ]
  },
  {
   "cell_type": "code",
   "execution_count": 2,
   "metadata": {},
   "outputs": [],
   "source": [
    "run __init__.py"
   ]
  },
  {
   "cell_type": "code",
   "execution_count": 3,
   "metadata": {},
   "outputs": [],
   "source": [
    "%run src/load_data.py"
   ]
  },
  {
   "cell_type": "code",
   "execution_count": 4,
   "metadata": {},
   "outputs": [],
   "source": [
    "import warnings\n",
    "warnings.filterwarnings('ignore')"
   ]
  },
  {
   "cell_type": "code",
   "execution_count": 5,
   "metadata": {},
   "outputs": [],
   "source": [
    "from sklearn import linear_model\n",
    "from sklearn.neighbors import KNeighborsRegressor\n",
    "from sklearn.tree import DecisionTreeRegressor\n",
    "from sklearn.svm import SVR\n",
    "from sklearn.model_selection import GridSearchCV\n",
    "\n",
    "from tqdm import tqdm\n",
    "from time import time"
   ]
  },
  {
   "cell_type": "code",
   "execution_count": 6,
   "metadata": {},
   "outputs": [],
   "source": [
    "train_data =  data['ames']['train']['engineered']\n",
    "train_labels = data['ames']['train']['labels']\n",
    "test_data =  data['ames']['test']['engineered']\n",
    "test_labels = data['ames']['test']['labels']"
   ]
  },
  {
   "cell_type": "markdown",
   "metadata": {},
   "source": [
    "### Using the following models with range of parameters to fit the data"
   ]
  },
  {
   "cell_type": "code",
   "execution_count": 7,
   "metadata": {},
   "outputs": [],
   "source": [
    "models = {\n",
    "    'Ridge' : linear_model.Ridge(),\n",
    "    'Lasso' : linear_model.Lasso(),\n",
    "    'K Nearest Neighbors' : KNeighborsRegressor(),\n",
    "    'Decision Tree' : DecisionTreeRegressor(),\n",
    "    'Support Vector Machines' : SVR(kernel ='linear'),\n",
    "}"
   ]
  },
  {
   "cell_type": "markdown",
   "metadata": {},
   "source": [
    "### Complexity curve for $R^2$ scores against hyper-parameters"
   ]
  },
  {
   "cell_type": "code",
   "execution_count": 8,
   "metadata": {},
   "outputs": [],
   "source": [
    "def time_function_call(function):\n",
    "    def wrapper(*args, **kwargs):\n",
    "        start = time()\n",
    "        result = function(*args, **kwargs)\n",
    "        execution_time = time() - start\n",
    "        return result, execution_time\n",
    "    return wrapper\n",
    "\n",
    "@time_function_call\n",
    "def model_fit(model, X, y):\n",
    "    return model.fit(X, y)\n",
    "\n",
    "@time_function_call\n",
    "def model_predict(model, X):\n",
    "    return model.predict(X)\n",
    "\n",
    "def run_model(model, model_name, X_train, y_train, X_test, y_test):\n",
    "\n",
    "    _, fit_time = model_fit(model, X_train, y_train)\n",
    "    \n",
    "    train_pred, train_pred_time = model_predict(model, X_train)\n",
    "    \n",
    "    test_pred, test_pred_time = model_predict(model, X_test)   \n",
    "    \n",
    "    return {\n",
    "            'model' : model,\n",
    "            'model_name' : model_name,\n",
    "            'train_score' : model.score(X_train, y_train),\n",
    "            'test_score' : model.score(X_test, y_test),\n",
    "            'fit_time' : fit_time,\n",
    "            'train_pred_time' : train_pred_time,\n",
    "            'test_pred_time' : test_pred_time}"
   ]
  },
  {
   "cell_type": "markdown",
   "metadata": {},
   "source": [
    "### Ridge Regression"
   ]
  },
  {
   "cell_type": "code",
   "execution_count": 9,
   "metadata": {},
   "outputs": [
    {
     "name": "stderr",
     "output_type": "stream",
     "text": [
      "100%|██████████| 499/499 [00:14<00:00, 34.87it/s]\n"
     ]
    }
   ],
   "source": [
    "test_results = []\n",
    "alpha_values = range(1,500)\n",
    "for ap in tqdm(alpha_values):\n",
    "    model = linear_model.Ridge(alpha=ap)\n",
    "    test_result = run_model(model,\n",
    "                            'Ridge',\n",
    "                            train_data, \n",
    "                            train_labels,\n",
    "                           test_data,\n",
    "                           test_labels)\n",
    "    test_results.append(test_result)"
   ]
  },
  {
   "cell_type": "code",
   "execution_count": 10,
   "metadata": {},
   "outputs": [],
   "source": [
    "test_results_df = pd.DataFrame(test_results)\n",
    "test_results_df['alpha'] = test_results_df.model.apply(lambda model: model.alpha)"
   ]
  },
  {
   "cell_type": "code",
   "execution_count": 11,
   "metadata": {},
   "outputs": [
    {
     "data": {
      "text/plain": [
       "<matplotlib.legend.Legend at 0x7f51b81bb128>"
      ]
     },
     "execution_count": 11,
     "metadata": {},
     "output_type": "execute_result"
    },
    {
     "data": {
      "image/png": "[encoded data removed]",
      "text/plain": [
       "<matplotlib.figure.Figure at 0x7f51b82591d0>"
      ]
     },
     "metadata": {},
     "output_type": "display_data"
    }
   ],
   "source": [
    "plt.plot(test_results_df.alpha, test_results_df.train_score, label='train')\n",
    "plt.plot(test_results_df.alpha, test_results_df.test_score, label='test')\n",
    "plt.title('Ridge Regression Score')\n",
    "plt.ylabel('R2')\n",
    "plt.xlabel('alpha value')\n",
    "plt.legend()"
   ]
  },
  {
   "cell_type": "markdown",
   "metadata": {},
   "source": [
    "### Lasso Regression"
   ]
  },
  {
   "cell_type": "code",
   "execution_count": 12,
   "metadata": {},
   "outputs": [
    {
     "name": "stderr",
     "output_type": "stream",
     "text": [
      "100%|██████████| 499/499 [00:39<00:00, 12.60it/s]\n"
     ]
    }
   ],
   "source": [
    "test_results = []\n",
    "alpha_values = range(1,500)\n",
    "for ap in tqdm(alpha_values):\n",
    "    model = linear_model.Lasso(alpha=ap)\n",
    "    test_result = run_model(model,\n",
    "                            'Lasso',\n",
    "                            train_data, \n",
    "                            train_labels,\n",
    "                           test_data,\n",
    "                           test_labels)\n",
    "    test_results.append(test_result)"
   ]
  },
  {
   "cell_type": "code",
   "execution_count": 13,
   "metadata": {},
   "outputs": [],
   "source": [
    "test_results_df = pd.DataFrame(test_results)\n",
    "test_results_df['alpha'] = test_results_df.model.apply(lambda model: model.alpha)"
   ]
  },
  {
   "cell_type": "code",
   "execution_count": 14,
   "metadata": {},
   "outputs": [
    {
     "data": {
      "text/plain": [
       "<matplotlib.legend.Legend at 0x7f51b811c4a8>"
      ]
     },
     "execution_count": 14,
     "metadata": {},
     "output_type": "execute_result"
    },
    {
     "data": {
      "image/png": "[encoded data removed]",
      "text/plain": [
       "<matplotlib.figure.Figure at 0x7f51b9563978>"
      ]
     },
     "metadata": {},
     "output_type": "display_data"
    }
   ],
   "source": [
    "plt.plot(test_results_df.alpha, test_results_df.train_score, label='train')\n",
    "plt.plot(test_results_df.alpha, test_results_df.test_score, label='test')\n",
    "plt.title('Lasso Regression Score')\n",
    "plt.ylabel('R2')\n",
    "plt.xlabel('alpha value')\n",
    "plt.legend()"
   ]
  },
  {
   "cell_type": "markdown",
   "metadata": {},
   "source": [
    "### Support Vector Regression"
   ]
  },
  {
   "cell_type": "code",
   "execution_count": 15,
   "metadata": {},
   "outputs": [
    {
     "name": "stderr",
     "output_type": "stream",
     "text": [
      "100%|██████████| 20/20 [01:45<00:00,  5.28s/it]\n"
     ]
    }
   ],
   "source": [
    "test_results = []\n",
    "c_values = range(1,400,20)\n",
    "for c in tqdm(c_values):\n",
    "    model = SVR(kernel ='linear', C=c)\n",
    "    test_result = run_model(model,\n",
    "                            'SVR',\n",
    "                            train_data, \n",
    "                            train_labels,\n",
    "                           test_data,\n",
    "                           test_labels)\n",
    "    test_results.append(test_result)"
   ]
  },
  {
   "cell_type": "code",
   "execution_count": 16,
   "metadata": {},
   "outputs": [],
   "source": [
    "test_results_df = pd.DataFrame(test_results)\n",
    "test_results_df['C'] = test_results_df.model.apply(lambda model: model.C)"
   ]
  },
  {
   "cell_type": "code",
   "execution_count": 17,
   "metadata": {},
   "outputs": [
    {
     "data": {
      "text/plain": [
       "<matplotlib.legend.Legend at 0x7f51b8246358>"
      ]
     },
     "execution_count": 17,
     "metadata": {},
     "output_type": "execute_result"
    },
    {
     "data": {
      "image/png": "[encoded data removed]",
      "text/plain": [
       "<matplotlib.figure.Figure at 0x7f51b81d26d8>"
      ]
     },
     "metadata": {},
     "output_type": "display_data"
    }
   ],
   "source": [
    "plt.plot(test_results_df.C, test_results_df.train_score, label='train')\n",
    "plt.plot(test_results_df.C, test_results_df.test_score, label='test')\n",
    "plt.title('Support Vector Regression Score')\n",
    "plt.ylabel('R2')\n",
    "plt.xlabel('C value')\n",
    "plt.legend()"
   ]
  }
 ],
 "metadata": {
  "kernelspec": {
   "display_name": "Python 3",
   "language": "python",
   "name": "python3"
  },
  "language_info": {
   "codemirror_mode": {
    "name": "ipython",
    "version": 3
   },
   "file_extension": ".py",
   "mimetype": "text/x-python",
   "name": "python",
   "nbconvert_exporter": "python",
   "pygments_lexer": "ipython3",
   "version": "3.6.4"
  }
 },
 "nbformat": 4,
 "nbformat_minor": 2
}
