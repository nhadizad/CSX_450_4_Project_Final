{
 "cells": [
  {
   "cell_type": "markdown",
   "metadata": {},
   "source": [
    "# Regression Models using Refined Parameters (Ames, Iowa Housing)¶"
   ]
  },
  {
   "cell_type": "markdown",
   "metadata": {},
   "source": [
    "### Lodaing, Splitting and Scaling the data"
   ]
  },
  {
   "cell_type": "code",
   "execution_count": 1,
   "metadata": {},
   "outputs": [
    {
     "name": "stdout",
     "output_type": "stream",
     "text": [
      "/home/jovyan/04-Final\n"
     ]
    }
   ],
   "source": [
    "cd .."
   ]
  },
  {
   "cell_type": "code",
   "execution_count": 2,
   "metadata": {},
   "outputs": [],
   "source": [
    "run __init__.py"
   ]
  },
  {
   "cell_type": "code",
   "execution_count": 3,
   "metadata": {},
   "outputs": [],
   "source": [
    "%run src/load_data.py"
   ]
  },
  {
   "cell_type": "code",
   "execution_count": 4,
   "metadata": {},
   "outputs": [],
   "source": [
    "import warnings\n",
    "warnings.filterwarnings('ignore')"
   ]
  },
  {
   "cell_type": "code",
   "execution_count": 5,
   "metadata": {},
   "outputs": [],
   "source": [
    "from sklearn import linear_model\n",
    "from sklearn.neighbors import KNeighborsRegressor\n",
    "from sklearn.tree import DecisionTreeRegressor\n",
    "from sklearn.svm import SVR\n",
    "from sklearn.model_selection import GridSearchCV\n",
    "\n",
    "from tqdm import tqdm"
   ]
  },
  {
   "cell_type": "code",
   "execution_count": 6,
   "metadata": {},
   "outputs": [],
   "source": [
    "train_data =  data['ames']['train']['engineered']\n",
    "train_labels = data['ames']['train']['labels']\n",
    "test_data =  data['ames']['test']['engineered']\n",
    "test_labels = data['ames']['test']['labels']"
   ]
  },
  {
   "cell_type": "markdown",
   "metadata": {},
   "source": [
    "### Using the following models with range of parameters for fine tunning"
   ]
  },
  {
   "cell_type": "code",
   "execution_count": 7,
   "metadata": {},
   "outputs": [],
   "source": [
    "models = {\n",
    "    'Ridge' : linear_model.Ridge(),\n",
    "    'Lasso' : linear_model.Lasso(),\n",
    "    'K Nearest Neighbors' : KNeighborsRegressor(),\n",
    "    'Decision Tree' : DecisionTreeRegressor(),\n",
    "    'Support Vector Machines - Linear' : SVR(kernel ='linear'),\n",
    "}"
   ]
  },
  {
   "cell_type": "code",
   "execution_count": 8,
   "metadata": {},
   "outputs": [],
   "source": [
    "models_params = {\n",
    "    'Ridge' : {'alpha': range(1,50)},\n",
    "    'Lasso' : {'alpha': range(1,50)},\n",
    "    'K Nearest Neighbors' : {'n_neighbors': range(1,20)},\n",
    "    'Decision Tree' : {'max_depth': range(1,200)},\n",
    "    'Support Vector Machines - Linear' : {'C': range(1,250,10)},\n",
    "}"
   ]
  },
  {
   "cell_type": "code",
   "execution_count": 9,
   "metadata": {},
   "outputs": [],
   "source": [
    "def run_model_grid_search(model_name, X_train, y_train, X_test, y_test):\n",
    "    model = models[model_name]\n",
    "    reg_params = models_params[model_name]\n",
    "    model_gs = GridSearchCV(model, \n",
    "                      param_grid= reg_params,\n",
    "                      cv=5,\n",
    "                      return_train_score=True)\n",
    "    model_gs.fit(X_train, y_train)\n",
    "    return {\n",
    "        'model_name' : model_name,\n",
    "        'model_best_params' : model_gs.best_params_,\n",
    "        'model_train_score' : model_gs.best_score_,\n",
    "        'model_test_score' : model_gs.score(X_test, y_test)\n",
    "    }"
   ]
  },
  {
   "cell_type": "code",
   "execution_count": 10,
   "metadata": {},
   "outputs": [
    {
     "name": "stderr",
     "output_type": "stream",
     "text": [
      "100%|██████████| 5/5 [09:31<00:00, 114.21s/it]\n"
     ]
    }
   ],
   "source": [
    "results = []\n",
    "for model_name in tqdm(models.keys()):\n",
    "    results.append(run_model_grid_search(model_name, train_data, train_labels, test_data, test_labels))"
   ]
  },
  {
   "cell_type": "markdown",
   "metadata": {},
   "source": [
    "### $R^2$ scores with best parameter values to use"
   ]
  },
  {
   "cell_type": "code",
   "execution_count": 11,
   "metadata": {},
   "outputs": [
    {
     "data": {
      "text/html": [
       "<div>\n",
       "<style scoped>\n",
       "    .dataframe tbody tr th:only-of-type {\n",
       "        vertical-align: middle;\n",
       "    }\n",
       "\n",
       "    .dataframe tbody tr th {\n",
       "        vertical-align: top;\n",
       "    }\n",
       "\n",
       "    .dataframe thead th {\n",
       "        text-align: right;\n",
       "    }\n",
       "</style>\n",
       "<table border=\"1\" class=\"dataframe\">\n",
       "  <thead>\n",
       "    <tr style=\"text-align: right;\">\n",
       "      <th></th>\n",
       "      <th>model_best_params</th>\n",
       "      <th>model_name</th>\n",
       "      <th>model_test_score</th>\n",
       "      <th>model_train_score</th>\n",
       "    </tr>\n",
       "  </thead>\n",
       "  <tbody>\n",
       "    <tr>\n",
       "      <th>0</th>\n",
       "      <td>{'alpha': 27}</td>\n",
       "      <td>Ridge</td>\n",
       "      <td>0.871117</td>\n",
       "      <td>0.859448</td>\n",
       "    </tr>\n",
       "    <tr>\n",
       "      <th>1</th>\n",
       "      <td>{'alpha': 23}</td>\n",
       "      <td>Lasso</td>\n",
       "      <td>0.848380</td>\n",
       "      <td>0.860783</td>\n",
       "    </tr>\n",
       "    <tr>\n",
       "      <th>2</th>\n",
       "      <td>{'n_neighbors': 14}</td>\n",
       "      <td>K Nearest Neighbors</td>\n",
       "      <td>0.780543</td>\n",
       "      <td>0.830535</td>\n",
       "    </tr>\n",
       "    <tr>\n",
       "      <th>3</th>\n",
       "      <td>{'max_depth': 8}</td>\n",
       "      <td>Decision Tree</td>\n",
       "      <td>0.685095</td>\n",
       "      <td>0.792498</td>\n",
       "    </tr>\n",
       "    <tr>\n",
       "      <th>4</th>\n",
       "      <td>{'C': 241}</td>\n",
       "      <td>Support Vector Machines - Linear</td>\n",
       "      <td>0.874041</td>\n",
       "      <td>0.850832</td>\n",
       "    </tr>\n",
       "  </tbody>\n",
       "</table>\n",
       "</div>"
      ],
      "text/plain": [
       "     model_best_params                        model_name  model_test_score  \\\n",
       "0        {'alpha': 27}                             Ridge          0.871117   \n",
       "1        {'alpha': 23}                             Lasso          0.848380   \n",
       "2  {'n_neighbors': 14}               K Nearest Neighbors          0.780543   \n",
       "3     {'max_depth': 8}                     Decision Tree          0.685095   \n",
       "4           {'C': 241}  Support Vector Machines - Linear          0.874041   \n",
       "\n",
       "   model_train_score  \n",
       "0           0.859448  \n",
       "1           0.860783  \n",
       "2           0.830535  \n",
       "3           0.792498  \n",
       "4           0.850832  "
      ]
     },
     "execution_count": 11,
     "metadata": {},
     "output_type": "execute_result"
    }
   ],
   "source": [
    "results_df = pd.DataFrame(results)\n",
    "results_df"
   ]
  },
  {
   "cell_type": "markdown",
   "metadata": {},
   "source": [
    "As it is is apparent from the results, in some cases the test data scores outperformed the ones from the train data set (although very close). This can be attributed to the overall uncertainty with the data. Once again the linear models outperformed the other models, which further confirms our earlier observation.\n",
    "\n",
    "Although all models improved after applying this step, the SVM model with the linear kernel improved considerably once the C parameter was tuned, going from the lowest $R^2$ score to the highest.\n",
    "\n",
    "We should also note that for this project we have a limited amount of computing resources (namely our AWS server), and it is not feasible to experiment with a large number of parameters."
   ]
  }
 ],
 "metadata": {
  "kernelspec": {
   "display_name": "Python 3",
   "language": "python",
   "name": "python3"
  },
  "language_info": {
   "codemirror_mode": {
    "name": "ipython",
    "version": 3
   },
   "file_extension": ".py",
   "mimetype": "text/x-python",
   "name": "python",
   "nbconvert_exporter": "python",
   "pygments_lexer": "ipython3",
   "version": "3.6.4"
  }
 },
 "nbformat": 4,
 "nbformat_minor": 2
}
